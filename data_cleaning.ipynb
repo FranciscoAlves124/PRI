{
 "cells": [
  {
   "cell_type": "markdown",
   "id": "84456438",
   "metadata": {},
   "source": [
    "### Data Analysis and Cleaning"
   ]
  },
  {
   "cell_type": "code",
   "execution_count": null,
   "id": "720444f3",
   "metadata": {},
   "outputs": [],
   "source": [
    "import numpy as np\n",
    "import pandas as pd"
   ]
  },
  {
   "cell_type": "markdown",
   "id": "f0904c68",
   "metadata": {},
   "source": [
    "#### Initial filtering with IMDB databases (now not in data folder, because they were too heavy)"
   ]
  },
  {
   "cell_type": "code",
   "execution_count": null,
   "id": "f7b45d03",
   "metadata": {},
   "outputs": [],
   "source": [
    "all_titles = pd.read_csv('data/title.basics.tsv', sep='\\t')\n",
    "all_ratings = pd.read_csv('data/title.ratings.tsv', sep='\\t')\n",
    "\n",
    "# Filter titles to only include movies and TV series\n",
    "movies_and_series = all_titles[all_titles['titleType'].isin(['movie', 'tvSeries'])]\n",
    "\n",
    "# Convert columns to correct data types\n",
    "all_ratings['averageRating'] = pd.to_numeric(all_ratings['averageRating'], errors='coerce')\n",
    "all_ratings['numVotes'] = pd.to_numeric(all_ratings['numVotes'], errors='coerce')\n",
    "\n",
    "# Merge titles and ratings, keeping only movies and TV series\n",
    "merged_data = movies_and_series.merge(all_ratings, on='tconst', how='inner')\n",
    "\n",
    "# Filter movies/series with at least 1000 votes\n",
    "df_filtered = merged_data[merged_data['numVotes'] >= 1000]\n",
    "\n",
    "# Sort by rating (descending), then by numVotes (descending for tie-breaking)\n",
    "df_sorted = df_filtered.sort_values(by=['averageRating', 'numVotes'], ascending=[False, False])\n",
    "\n",
    "# Save to new TSV file\n",
    "df_sorted.to_csv('data/filtered_sorted_with_ratings.tsv', sep='\\t', index=False)"
   ]
  },
  {
   "cell_type": "code",
   "execution_count": null,
   "id": "be4d72aa",
   "metadata": {},
   "outputs": [
    {
     "name": "stdout",
     "output_type": "stream",
     "text": [
      "Overall mean rating: 6.39\n",
      "Minimum votes threshold (75th percentile): 10202\n",
      "\n",
      "Top 10 movies/series by weighted rating:\n",
      "                      primaryTitle  averageRating  numVotes  weightedRating\n",
      "175388                Breaking Bad            9.5   2405005        9.486874\n",
      "67193     The Shawshank Redemption            9.3   3104334        9.290476\n",
      "153336  Avatar: The Last Airbender            9.3    417720        9.230683\n",
      "129412                    The Wire            9.3    413512        9.229994\n",
      "176712             Game of Thrones            9.2   2485498        9.188523\n",
      "39197                The Godfather            9.2   2163561        9.186824\n",
      "80066                 The Sopranos            9.2    545115        9.148422\n",
      "162488             The Dark Knight            9.1   3079402        9.091060\n",
      "308327             Attack on Titan            9.1    649760        9.058146\n",
      "234194                   Aspirants            9.1    316623        9.015484\n",
      "\n",
      "Top 10 movies/series by weighted rating:\n",
      "                      primaryTitle  averageRating  numVotes  weightedRating\n",
      "175388                Breaking Bad            9.5   2405005        9.486874\n",
      "67193     The Shawshank Redemption            9.3   3104334        9.290476\n",
      "153336  Avatar: The Last Airbender            9.3    417720        9.230683\n",
      "129412                    The Wire            9.3    413512        9.229994\n",
      "176712             Game of Thrones            9.2   2485498        9.188523\n",
      "39197                The Godfather            9.2   2163561        9.186824\n",
      "80066                 The Sopranos            9.2    545115        9.148422\n",
      "162488             The Dark Knight            9.1   3079402        9.091060\n",
      "308327             Attack on Titan            9.1    649760        9.058146\n",
      "234194                   Aspirants            9.1    316623        9.015484\n"
     ]
    },
    {
     "name": "stderr",
     "output_type": "stream",
     "text": [
      "C:\\Users\\franc\\AppData\\Local\\Temp\\ipykernel_10268\\2729732123.py:24: SettingWithCopyWarning: \n",
      "A value is trying to be set on a copy of a slice from a DataFrame.\n",
      "Try using .loc[row_indexer,col_indexer] = value instead\n",
      "\n",
      "See the caveats in the documentation: https://pandas.pydata.org/pandas-docs/stable/user_guide/indexing.html#returning-a-view-versus-a-copy\n",
      "  df_filtered['weightedRating'] = df_filtered.apply(calculate_weighted_rating, axis=1)\n"
     ]
    }
   ],
   "source": [
    "# IMDb-style weighted rating system for top 10,000 movies and series\n",
    "\n",
    "# Calculate overall statistics for the weighted rating formula\n",
    "overall_mean_rating = df_filtered['averageRating'].mean()\n",
    "min_votes_required = df_filtered['numVotes'].quantile(0.75)  # Use 75th percentile as minimum\n",
    "\n",
    "print(f\"Overall mean rating: {overall_mean_rating:.2f}\")\n",
    "print(f\"Minimum votes threshold (75th percentile): {min_votes_required:.0f}\")\n",
    "\n",
    "# Apply Bayesian weighted rating formula\n",
    "# Weighted Rating = (v / (v + m)) * R + (m / (v + m)) * C\n",
    "# Where: v = votes, m = min votes, R = average rating, C = overall mean\n",
    "def calculate_weighted_rating(row):\n",
    "    v = row['numVotes']\n",
    "    R = row['averageRating']\n",
    "    m = min_votes_required\n",
    "    C = overall_mean_rating\n",
    "    \n",
    "    weighted_rating = (v / (v + m)) * R + (m / (v + m)) * C\n",
    "    return weighted_rating\n",
    "\n",
    "# Add weighted rating column\n",
    "df_filtered['weightedRating'] = df_filtered.apply(calculate_weighted_rating, axis=1)\n",
    "\n",
    "# Sort by weighted rating (descending), then by numVotes (descending for tie-breaking)\n",
    "df_weighted_sorted = df_filtered.sort_values(by=['weightedRating', 'numVotes'], ascending=[False, False])\n",
    "\n",
    "# Get top 10,000 based on weighted ratings\n",
    "top_10000_weighted = df_weighted_sorted.head(10000)\n",
    "\n",
    "# Save the weighted top 10,000 to file\n",
    "top_10000_weighted.to_csv('data/top_10000_weighted_ratings.tsv', sep='\\t', index=False)\n",
    "\n",
    "print(f\"\\nTop 10 movies/series by weighted rating:\")\n",
    "print(top_10000_weighted[['primaryTitle', 'averageRating', 'numVotes', 'weightedRating']].head(10))"
   ]
  },
  {
   "cell_type": "markdown",
   "id": "4bdaffa1",
   "metadata": {},
   "source": [
    "### Web Scraping / API Calls to get Cast and Plot Description"
   ]
  }
 ],
 "metadata": {
  "kernelspec": {
   "display_name": "EnvACFinal",
   "language": "python",
   "name": "python3"
  },
  "language_info": {
   "codemirror_mode": {
    "name": "ipython",
    "version": 3
   },
   "file_extension": ".py",
   "mimetype": "text/x-python",
   "name": "python",
   "nbconvert_exporter": "python",
   "pygments_lexer": "ipython3",
   "version": "3.11.13"
  }
 },
 "nbformat": 4,
 "nbformat_minor": 5
}
